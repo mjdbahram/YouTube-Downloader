{
 "cells": [
  {
   "cell_type": "code",
   "execution_count": 1,
   "metadata": {
    "scrolled": true
   },
   "outputs": [],
   "source": [
    "from pytube import YouTube,Playlist\n",
    "from os.path import isfile, getsize\n",
    "import sys"
   ]
  },
  {
   "cell_type": "code",
   "execution_count": 2,
   "metadata": {},
   "outputs": [],
   "source": [
    "def show_progress_bar(stream, _chunk, _file_handle, bytes_remaining):\n",
    "    current = ((stream.filesize - bytes_remaining)/stream.filesize)\n",
    "    percent = ('{0:.1f}').format(current*100)\n",
    "    progress = int(50*current)\n",
    "    status = '█' * progress + '-' * (50 - progress)\n",
    "    sys.stdout.write(' ↳ |{bar}| {percent}%\\r'.format(bar=status, percent=percent))\n",
    "    sys.stdout.flush()"
   ]
  },
  {
   "cell_type": "code",
   "execution_count": null,
   "metadata": {},
   "outputs": [
    {
     "name": "stdout",
     "output_type": "stream",
     "text": [
      "Video with id=22 and resolution 720p is 18.498073 MegaBytes\n",
      "Video with id=43 and resolution 360p is 10.580273 MegaBytes\n",
      "Video with id=18 and resolution 360p is 12.693564 MegaBytes\n",
      "Please Enter the id: 43\n",
      "\n",
      "\n",
      "Downloading the subtitle of Python Web Crawler Tutorial - 1 - Creating a New Project ...\n",
      "Downloading the video of Python Web Crawler Tutorial - 1 - Creating a New Project ...\n",
      "\n",
      " ↳ |█████████████████████████-------------------------| 51.3%\r"
     ]
    }
   ],
   "source": [
    "url = 'https://www.youtube.com/watch?v=nRW90GASSXE&list=PL6gx4Cwl9DGA8Vys-f48mAH9OKSUyav0q&index=2&t=34s'\n",
    "need_sub = 'y'\n",
    "\n",
    "yt = YouTube(url)\n",
    "progressive_video_info = yt.streams.filter(progressive=True).all()\n",
    "\n",
    "stream = []\n",
    "for vid in progressive_video_info:\n",
    "    stream.append(yt.streams.get_by_itag(itag=vid.itag))\n",
    "    print(\"Video with id=%s and resolution %s is %f MegaBytes\"%(vid.itag, vid.resolution, stream[-1].filesize/1e6))\n",
    "id_code = eval(input(\"Please Enter the id: \"))\n",
    "\n",
    "if ( need_sub == 'y'):\n",
    "    try:\n",
    "        print('\\n\\nDownloading the subtitle of %s ...'%(yt.title))\n",
    "        caption = yt.captions.get_by_language_code('en')\n",
    "        text_file = open(yt.title+'.srt', \"w\")\n",
    "        text_file.write(caption.generate_srt_captions())\n",
    "        text_file.close()\n",
    "    except:\n",
    "        print(\"Download of «%s»'s Subtitle Failed\" %(yt.title))\n",
    "        with open(yt.title +'_sub_download.log','w') as log_file:\n",
    "            log_file.write(url)\n",
    "\n",
    "try:\n",
    "    print('Downloading the video of %s ...\\n'%(yt.title))\n",
    "    yt.register_on_progress_callback(show_progress_bar)\n",
    "    yt.streams.get_by_itag(id_code).download();   \n",
    "        \n",
    "except:\n",
    "    print(\"Download of «%s» Failed\" %(yt.title))\n",
    "    with open(yt.title+ '_download.log','w') as log_file:\n",
    "        log_file.write(url)\n",
    "        \n",
    "\n"
   ]
  },
  {
   "cell_type": "code",
   "execution_count": null,
   "metadata": {},
   "outputs": [],
   "source": []
  }
 ],
 "metadata": {
  "kernelspec": {
   "display_name": "Python 3",
   "language": "python",
   "name": "python3"
  },
  "language_info": {
   "codemirror_mode": {
    "name": "ipython",
    "version": 3
   },
   "file_extension": ".py",
   "mimetype": "text/x-python",
   "name": "python",
   "nbconvert_exporter": "python",
   "pygments_lexer": "ipython3",
   "version": "3.7.3"
  }
 },
 "nbformat": 4,
 "nbformat_minor": 2
}
