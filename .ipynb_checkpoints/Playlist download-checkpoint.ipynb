{
 "cells": [
  {
   "cell_type": "code",
   "execution_count": 1,
   "metadata": {},
   "outputs": [],
   "source": [
    "from pytube import YouTube,Playlist\n",
    "from os.path import isfile, getsize\n",
    "import sys"
   ]
  },
  {
   "cell_type": "code",
   "execution_count": 2,
   "metadata": {},
   "outputs": [],
   "source": [
    "def show_progress_bar(stream, _chunk, _file_handle, bytes_remaining):\n",
    "    current = ((stream.filesize - bytes_remaining)/stream.filesize)\n",
    "    percent = ('{0:.1f}').format(current*100)\n",
    "    progress = int(50*current)\n",
    "    status = '█' * progress + '-' * (50 - progress)\n",
    "    sys.stdout.write(' ↳ |{bar}| {percent}%\\r'.format(bar=status, percent=percent))\n",
    "    sys.stdout.flush()"
   ]
  },
  {
   "cell_type": "code",
   "execution_count": 3,
   "metadata": {},
   "outputs": [],
   "source": [
    "url = 'https://www.youtube.com/watch?v=nRW90GASSXE&list=PL6gx4Cwl9DGA8Vys-f48mAH9OKSUyav0q&index=2&t=34s'"
   ]
  },
  {
   "cell_type": "code",
   "execution_count": 4,
   "metadata": {},
   "outputs": [],
   "source": [
    "pl = Playlist(url)\n",
    "pl.populate_video_urls()"
   ]
  },
  {
   "cell_type": "code",
   "execution_count": 5,
   "metadata": {},
   "outputs": [
    {
     "name": "stdout",
     "output_type": "stream",
     "text": [
      "17 videos will be downloaded:\n",
      "\n"
     ]
    }
   ],
   "source": [
    "print(len(pl.video_urls),'videos will be downloaded:')\n",
    "print('')"
   ]
  },
  {
   "cell_type": "code",
   "execution_count": 7,
   "metadata": {},
   "outputs": [
    {
     "name": "stdout",
     "output_type": "stream",
     "text": [
      "0     Python Web Crawler Tutorial - 1 - Creating a New Project\n",
      "Video with id=22 and resolution 720p is 18.498073 MegaBytes\n",
      "Video with id=43 and resolution 360p is 10.580273 MegaBytes\n",
      "Video with id=18 and resolution 360p is 12.693564 MegaBytes\n",
      "Please Enter the id: 22\n",
      "The Choice same for all? (y/n) y\n",
      "1     Python Web Crawler Tutorial - 2 - Queue and Crawled Files\n"
     ]
    },
    {
     "ename": "NameError",
     "evalue": "name 'need_sub' is not defined",
     "output_type": "error",
     "traceback": [
      "\u001b[0;31m---------------------------------------------------------------------------\u001b[0m",
      "\u001b[0;31mNameError\u001b[0m                                 Traceback (most recent call last)",
      "\u001b[0;32m<ipython-input-7-c8cf65682d49>\u001b[0m in \u001b[0;36m<module>\u001b[0;34m\u001b[0m\n\u001b[1;32m     18\u001b[0m     \u001b[0;32melse\u001b[0m\u001b[0;34m:\u001b[0m\u001b[0;34m\u001b[0m\u001b[0;34m\u001b[0m\u001b[0m\n\u001b[1;32m     19\u001b[0m \u001b[0;34m\u001b[0m\u001b[0m\n\u001b[0;32m---> 20\u001b[0;31m         \u001b[0;32mif\u001b[0m \u001b[0;34m(\u001b[0m \u001b[0mneed_sub\u001b[0m \u001b[0;34m==\u001b[0m \u001b[0;34m'y'\u001b[0m\u001b[0;34m)\u001b[0m\u001b[0;34m:\u001b[0m\u001b[0;34m\u001b[0m\u001b[0;34m\u001b[0m\u001b[0m\n\u001b[0m\u001b[1;32m     21\u001b[0m             \u001b[0;32mtry\u001b[0m\u001b[0;34m:\u001b[0m\u001b[0;34m\u001b[0m\u001b[0;34m\u001b[0m\u001b[0m\n\u001b[1;32m     22\u001b[0m                 \u001b[0mprint\u001b[0m\u001b[0;34m(\u001b[0m\u001b[0;34m'\\n\\nDownloading the subtitle of %s ...'\u001b[0m\u001b[0;34m%\u001b[0m\u001b[0;34m(\u001b[0m\u001b[0myt\u001b[0m\u001b[0;34m.\u001b[0m\u001b[0mtitle\u001b[0m\u001b[0;34m)\u001b[0m\u001b[0;34m)\u001b[0m\u001b[0;34m\u001b[0m\u001b[0;34m\u001b[0m\u001b[0m\n",
      "\u001b[0;31mNameError\u001b[0m: name 'need_sub' is not defined"
     ]
    }
   ],
   "source": [
    "same_option = 'n'\n",
    "id_code = 43\n",
    "need_sub = 'y'\n",
    "\n",
    "       \n",
    "\n",
    "for i,url in enumerate(pl.video_urls):\n",
    "    yt = YouTube(url)\n",
    "    print(i,'   ',yt.title)\n",
    "    progressive_video_info = yt.streams.filter(progressive=True).all()\n",
    "    if (same_option == 'n'):\n",
    "        stream = []\n",
    "        for vid in progressive_video_info:\n",
    "            stream.append(yt.streams.get_by_itag(itag=vid.itag))\n",
    "            print(\"Video with id=%s and resolution %s is %f MegaBytes\"%(vid.itag, vid.resolution, stream[-1].filesize/1e6))\n",
    "        id_code = input(\"Please Enter the id: \")\n",
    "        same_option = input(\"The Choice same for all? (y/n) \")\n",
    "        \n",
    "    else:\n",
    "\n",
    "        if ( need_sub == 'y'):\n",
    "            try:\n",
    "                print('\\n\\nDownloading the subtitle of %s ...'%(yt.title))\n",
    "                caption = yt.captions.get_by_language_code('en')\n",
    "                text_file = open(yt.title+'.srt', \"w\")\n",
    "                text_file.write(caption.generate_srt_captions())\n",
    "                text_file.close()\n",
    "            except:\n",
    "                print(\"Download of «%s»'s Subtitle Failed\" %(yt.title))\n",
    "                with open(yt.title +'_sub_download.log','w') as log_file:\n",
    "                    log_file.write(url)\n",
    "\n",
    "        try:\n",
    "                print('Downloading the video of %s ...\\n'%(yt.title))\n",
    "                yt.register_on_progress_callback(show_progress_bar)\n",
    "                yt.streams.get_by_itag(id_code).download();   \n",
    "\n",
    "        except:\n",
    "                print(\"Download of «%s» Failed\" %(yt.title))\n",
    "                with open(yt.title+ '_download.log','w') as log_file:\n",
    "                    log_file.write(url)\n",
    "\n",
    "\n",
    "\n",
    "    \n"
   ]
  },
  {
   "cell_type": "code",
   "execution_count": null,
   "metadata": {},
   "outputs": [],
   "source": []
  }
 ],
 "metadata": {
  "kernelspec": {
   "display_name": "Python 3",
   "language": "python",
   "name": "python3"
  },
  "language_info": {
   "codemirror_mode": {
    "name": "ipython",
    "version": 3
   },
   "file_extension": ".py",
   "mimetype": "text/x-python",
   "name": "python",
   "nbconvert_exporter": "python",
   "pygments_lexer": "ipython3",
   "version": "3.7.3"
  }
 },
 "nbformat": 4,
 "nbformat_minor": 2
}
