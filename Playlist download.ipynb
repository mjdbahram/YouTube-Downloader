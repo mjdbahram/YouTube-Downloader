{
 "cells": [
  {
   "cell_type": "code",
   "execution_count": 1,
   "metadata": {},
   "outputs": [],
   "source": [
    "from pytube import YouTube,Playlist\n",
    "from os.path import isfile, getsize\n",
    "import os\n",
    "import sys"
   ]
  },
  {
   "cell_type": "code",
   "execution_count": 2,
   "metadata": {},
   "outputs": [],
   "source": [
    "def downer():\n",
    "    if ( need_sub == 'y'):\n",
    "        try:\n",
    "            print('\\n\\nDownloading the subtitle of %s ...'%(yt.title))\n",
    "            caption = yt.captions.get_by_language_code('en')\n",
    "            text_file = open(yt.title+'.srt', \"w\")\n",
    "            text_file.write(caption.generate_srt_captions())\n",
    "            text_file.close()\n",
    "        except:\n",
    "            print(\"Download of «%s»'s Subtitle Failed\" %(yt.title))\n",
    "            with open(yt.title +'_sub_download.log','w') as log_file:\n",
    "                log_file.write(url)\n",
    "\n",
    "    try:\n",
    "        print('Downloading the video of %s ...\\n'%(yt.title))\n",
    "        yt.register_on_progress_callback(show_progress_bar)\n",
    "        yt.streams.get_by_itag(id_code).download();   \n",
    "\n",
    "    except:\n",
    "        print(\"Download of «%s» Failed\" %(yt.title))\n",
    "        with open(yt.title+ '_download.log','w') as log_file:\n",
    "            log_file.write(url)\n"
   ]
  },
  {
   "cell_type": "code",
   "execution_count": 3,
   "metadata": {},
   "outputs": [],
   "source": [
    "def show_progress_bar(stream, _chunk, _file_handle, bytes_remaining):\n",
    "    current = ((stream.filesize - bytes_remaining)/stream.filesize)\n",
    "    percent = ('{0:.1f}').format(current*100)\n",
    "    progress = int(50*current)\n",
    "    status = '█' * progress + '-' * (50 - progress)\n",
    "    sys.stdout.write(' ↳ |{bar}| {percent}%\\r'.format(bar=status, percent=percent))\n",
    "    sys.stdout.flush()"
   ]
  },
  {
   "cell_type": "code",
   "execution_count": 4,
   "metadata": {},
   "outputs": [],
   "source": [
    "url = 'https://www.youtube.com/watch?v=nRW90GASSXE&list=PL6gx4Cwl9DGA8Vys-f48mAH9OKSUyav0q&index=2&t=34s'"
   ]
  },
  {
   "cell_type": "code",
   "execution_count": 5,
   "metadata": {},
   "outputs": [],
   "source": [
    "pl = Playlist(url)\n",
    "pl.populate_video_urls()"
   ]
  },
  {
   "cell_type": "code",
   "execution_count": 6,
   "metadata": {
    "scrolled": true
   },
   "outputs": [
    {
     "name": "stdout",
     "output_type": "stream",
     "text": [
      "17 videos will be downloaded:\n",
      "\n"
     ]
    }
   ],
   "source": [
    "print(len(pl.video_urls),'videos will be downloaded:')\n",
    "print('')"
   ]
  },
  {
   "cell_type": "code",
   "execution_count": 7,
   "metadata": {},
   "outputs": [],
   "source": [
    "os.chdir(\"./output/webscraping\")"
   ]
  },
  {
   "cell_type": "code",
   "execution_count": 8,
   "metadata": {},
   "outputs": [
    {
     "name": "stdout",
     "output_type": "stream",
     "text": [
      "0     Python Web Crawler Tutorial - 1 - Creating a New Project\n",
      "Video with id=22 and resolution 720p is 18.498073 MegaBytes\n",
      "Video with id=43 and resolution 360p is 10.580273 MegaBytes\n",
      "Video with id=18 and resolution 360p is 12.693564 MegaBytes\n",
      "Please Enter the id: 22\n",
      "The same resolution for all? (y/n) y\n",
      "\n",
      "\n",
      "Downloading the subtitle of Python Web Crawler Tutorial - 1 - Creating a New Project ...\n",
      "Downloading the video of Python Web Crawler Tutorial - 1 - Creating a New Project ...\n",
      "\n",
      "1     Python Web Crawler Tutorial - 2 - Queue and Crawled Files\n",
      "\n",
      "\n",
      "Downloading the subtitle of Python Web Crawler Tutorial - 2 - Queue and Crawled Files ...\n",
      "Downloading the video of Python Web Crawler Tutorial - 2 - Queue and Crawled Files ...\n",
      "\n",
      "2     Python Web Crawler Tutorial - 3 - Adding and Deleting Links\n",
      "\n",
      "\n",
      "Downloading the subtitle of Python Web Crawler Tutorial - 3 - Adding and Deleting Links ...\n",
      "Downloading the video of Python Web Crawler Tutorial - 3 - Adding and Deleting Links ...\n",
      "\n",
      "3     Python Web Crawler Tutorial - 4 - Speeding Up the Crawler\n",
      "\n",
      "\n",
      "Downloading the subtitle of Python Web Crawler Tutorial - 4 - Speeding Up the Crawler ...\n",
      "Downloading the video of Python Web Crawler Tutorial - 4 - Speeding Up the Crawler ...\n",
      "\n",
      "4     Python Web Crawler Tutorial - 5 - Parsing HTML██| 100.0%\n",
      "\n",
      "\n",
      "Downloading the subtitle of Python Web Crawler Tutorial - 5 - Parsing HTML ...\n",
      "Downloading the video of Python Web Crawler Tutorial - 5 - Parsing HTML ...\n",
      "\n",
      "5     Python Web Crawler Tutorial - 6 - Finding Links█| 100.0%\n",
      "\n",
      "\n",
      "Downloading the subtitle of Python Web Crawler Tutorial - 6 - Finding Links ...\n",
      "Downloading the video of Python Web Crawler Tutorial - 6 - Finding Links ...\n",
      "\n",
      "6     Python Web Crawler Tutorial - 7 - Spider Concept| 100.0%\n",
      "\n",
      "\n",
      "Downloading the subtitle of Python Web Crawler Tutorial - 7 - Spider Concept ...\n",
      "Downloading the video of Python Web Crawler Tutorial - 7 - Spider Concept ...\n",
      "\n",
      "7     Python Web Crawler Tutorial - 8 - Creating the Spider.0%\n",
      "\n",
      "\n",
      "Downloading the subtitle of Python Web Crawler Tutorial - 8 - Creating the Spider ...\n",
      "Downloading the video of Python Web Crawler Tutorial - 8 - Creating the Spider ...\n",
      "\n",
      "8     Python Web Crawler Tutorial - 9 - Giving the Spider Information\n",
      "\n",
      "\n",
      "Downloading the subtitle of Python Web Crawler Tutorial - 9 - Giving the Spider Information ...\n",
      "Downloading the video of Python Web Crawler Tutorial - 9 - Giving the Spider Information ...\n",
      "\n",
      "9     Python Web Crawler Tutorial - 10 - Booting Up the Spider\n",
      "\n",
      "\n",
      "Downloading the subtitle of Python Web Crawler Tutorial - 10 - Booting Up the Spider ...\n",
      "Downloading the video of Python Web Crawler Tutorial - 10 - Booting Up the Spider ...\n",
      "\n",
      "10     Python Web Crawler Tutorial - 11 - Crawling Pages100.0%\n",
      "\n",
      "\n",
      "Downloading the subtitle of Python Web Crawler Tutorial - 11 - Crawling Pages ...\n",
      "Downloading the video of Python Web Crawler Tutorial - 11 - Crawling Pages ...\n",
      "\n",
      "11     Python Web Crawler Tutorial - 12 - Gathering Links00.0%\n",
      "\n",
      "\n",
      "Downloading the subtitle of Python Web Crawler Tutorial - 12 - Gathering Links ...\n",
      "Downloading the video of Python Web Crawler Tutorial - 12 - Gathering Links ...\n",
      "\n",
      "12     Python Web Crawler Tutorial - 13 - Adding Links to the Queue\n",
      "\n",
      "\n",
      "Downloading the subtitle of Python Web Crawler Tutorial - 13 - Adding Links to the Queue ...\n",
      "Downloading the video of Python Web Crawler Tutorial - 13 - Adding Links to the Queue ...\n",
      "\n",
      "13     Python Web Crawler Tutorial - 14 - Domain Name Parsing%\n",
      "\n",
      "\n",
      "Downloading the subtitle of Python Web Crawler Tutorial - 14 - Domain Name Parsing ...\n",
      "Downloading the video of Python Web Crawler Tutorial - 14 - Domain Name Parsing ...\n",
      "\n",
      "14     Python Web Crawler Tutorial - 15 - The First Spider0.0%\n",
      "\n",
      "\n",
      "Downloading the subtitle of Python Web Crawler Tutorial - 15 - The First Spider ...\n",
      "Downloading the video of Python Web Crawler Tutorial - 15 - The First Spider ...\n",
      "\n",
      "15     Python Web Crawler Tutorial - 16 - Creating Jobs 100.0%\n",
      "\n",
      "\n",
      "Downloading the subtitle of Python Web Crawler Tutorial - 16 - Creating Jobs ...\n",
      "Downloading the video of Python Web Crawler Tutorial - 16 - Creating Jobs ...\n",
      "\n",
      "16     Python Web Crawler Tutorial - 17 - Running the Final Program\n",
      "\n",
      "\n",
      "Downloading the subtitle of Python Web Crawler Tutorial - 17 - Running the Final Program ...\n",
      "Downloading the video of Python Web Crawler Tutorial - 17 - Running the Final Program ...\n",
      "\n",
      " ↳ |██████████████████████████████████████████████████| 100.0%\r"
     ]
    }
   ],
   "source": [
    "same_option = 'n'\n",
    "id_code = 43\n",
    "need_sub = 'y'\n",
    "\n",
    "       \n",
    "\n",
    "for i,url in enumerate(pl.video_urls):\n",
    "    yt = YouTube(url)\n",
    "    print(i,'   ',yt.title)\n",
    "    progressive_video_info = yt.streams.filter(progressive=True).all()\n",
    "    if (same_option == 'n'):\n",
    "        stream = []\n",
    "        for vid in progressive_video_info:\n",
    "            stream.append(yt.streams.get_by_itag(itag=vid.itag))\n",
    "            print(\"Video with id=%s and resolution %s is %f MegaBytes\"%(vid.itag, vid.resolution, stream[-1].filesize/1e6))\n",
    "        id_code = input(\"Please Enter the id: \")\n",
    "        same_option = input(\"The same resolution for all? (y/n) \")\n",
    "        downer()\n",
    "   \n",
    "    else:\n",
    "        downer()\n",
    "\n",
    "\n",
    "\n",
    "\n",
    "    \n"
   ]
  },
  {
   "cell_type": "code",
   "execution_count": null,
   "metadata": {},
   "outputs": [],
   "source": []
  }
 ],
 "metadata": {
  "kernelspec": {
   "display_name": "Python 3",
   "language": "python",
   "name": "python3"
  },
  "language_info": {
   "codemirror_mode": {
    "name": "ipython",
    "version": 3
   },
   "file_extension": ".py",
   "mimetype": "text/x-python",
   "name": "python",
   "nbconvert_exporter": "python",
   "pygments_lexer": "ipython3",
   "version": "3.7.3"
  }
 },
 "nbformat": 4,
 "nbformat_minor": 2
}
