{
 "cells": [
  {
   "cell_type": "code",
   "execution_count": null,
   "metadata": {},
   "outputs": [],
   "source": [
    "! pip install pytube\n",
    "from google.colab import drive \n",
    "drive.mount('/content/gdrive')"
   ]
  },
  {
   "cell_type": "code",
   "execution_count": null,
   "metadata": {},
   "outputs": [],
   "source": [
    "from pytube import YouTube,Playlist\n",
    "from os.path import isfile, getsize\n",
    "import os\n",
    "import sys"
   ]
  },
  {
   "cell_type": "code",
   "execution_count": null,
   "metadata": {},
   "outputs": [],
   "source": [
    "os.chdir(\"/content/gdrive/My Drive/\")\n",
    "\n"
   ]
  },
  {
   "cell_type": "code",
   "execution_count": null,
   "metadata": {},
   "outputs": [],
   "source": [
    "def download_engine(url, yt, id_code, need_sub = 'y'):\n",
    "    if ( need_sub == 'y'):\n",
    "        try:\n",
    "            print('\\n\\nDownloading the subtitle of %s ...'%(yt.title))\n",
    "            caption = yt.captions.get_by_language_code('en')\n",
    "            text_file = open(yt.title+'.srt', \"w\")\n",
    "            text_file.write(caption.generate_srt_captions())\n",
    "            text_file.close()\n",
    "        except:\n",
    "            print(\"Download of «%s»'s Subtitle Failed\" %(yt.title))\n",
    "            with open(yt.title +'_sub_download.log','w') as log_file:\n",
    "                log_file.write(url)\n",
    "\n",
    "    try:\n",
    "        print('Downloading the video of %s ...\\n'%(yt.title))\n",
    "        yt.register_on_progress_callback(show_progress_bar)\n",
    "        yt.streams.get_by_itag(id_code).download();   \n",
    "\n",
    "    except:\n",
    "        print(\"Download of «%s» Failed\" %(yt.title))\n",
    "        with open(yt.title+ '_download.log','w') as log_file:\n",
    "            log_file.write(url)\n"
   ]
  },
  {
   "cell_type": "code",
   "execution_count": null,
   "metadata": {},
   "outputs": [],
   "source": [
    "def show_progress_bar(stream, _chunk, _file_handle, bytes_remaining):\n",
    "    current = ((stream.filesize - bytes_remaining)/stream.filesize)\n",
    "    percent = ('{0:.1f}').format(current*100)\n",
    "    progress = int(50*current)\n",
    "    status = '█' * progress + '-' * (50 - progress)\n",
    "    sys.stdout.write(' ↳ |{bar}| {percent}%\\r'.format(bar=status, percent=percent))\n",
    "    sys.stdout.flush()"
   ]
  },
  {
   "cell_type": "code",
   "execution_count": null,
   "metadata": {
    "scrolled": false
   },
   "outputs": [],
   "source": [
    "def DownloadForMe(project_name, url, need_sub='y',same_option='n', id_code=18 ):\n",
    "    PlayList_or_Single = str(input(\"Do you want to download single or playlist? \\n\\t press p for playlist \\n\\t press s for single\\n\"))\n",
    "    if (PlayList_or_Single == 'p'):   \n",
    "        if not os.path.exists(project_name):\n",
    "            os.mkdir(project_name); os.chdir(project_name)\n",
    "        else:\n",
    "            os.chdir(project_name)\n",
    "        print(\"hehe\")\n",
    "        pl = Playlist(url)\n",
    "        pl.populate_video_urls()\n",
    "\n",
    "        print(len(pl.video_urls),'videos will be downloaded:\\n')\n",
    "        print(\"hehe\")\n",
    "        for i,url in enumerate(pl.video_urls):\n",
    "            yt = YouTube(url)\n",
    "            print(i,'   ',yt.title)\n",
    "            progressive_video_info = yt.streams.filter(progressive=True).all()\n",
    "            if (same_option == 'n'):\n",
    "                stream = []\n",
    "                for vid in progressive_video_info:\n",
    "                    stream.append(yt.streams.get_by_itag(itag=vid.itag))\n",
    "                    print(\"Video with id=%s and resolution %s is %f MegaBytes\"%(vid.itag, vid.resolution, stream[-1].filesize/1e6))\n",
    "                id_code = input(\"Please Enter the id: \")\n",
    "                same_option = input(\"The same resolution for all? (y/n) \")\n",
    "                download_engine(url, yt, id_code, need_sub)\n",
    "\n",
    "            else:\n",
    "                download_engine(url, yt,  id_code, need_sub)\n",
    "    \n",
    "    elif (PlayList_or_Single == 's'):\n",
    "        yt = YouTube(url)\n",
    "        progressive_video_info = yt.streams.filter(progressive=True).all()\n",
    "\n",
    "        stream = []\n",
    "        for vid in progressive_video_info:\n",
    "            stream.append(yt.streams.get_by_itag(itag=vid.itag))\n",
    "            print(\"Video with id=%s and resolution %s is %f MegaBytes\"%(vid.itag, vid.resolution, stream[-1].filesize/1e6))\n",
    "        id_code = eval(input(\"Please Enter the id: \"))\n",
    "        \n",
    "        download_engine(url, yt,  id_code, need_sub)\n",
    "\n",
    " \n",
    "                \n",
    "    else:\n",
    "        print(\"Please Enter a valid input\")\n",
    "\n"
   ]
  },
  {
   "cell_type": "code",
   "execution_count": null,
   "metadata": {},
   "outputs": [],
   "source": [
    "url = 'https://www.youtube.com/watch?v=Mp0f0zTPLec&list=PL081AC329706B2953&index=2&t=0s'"
   ]
  },
  {
   "cell_type": "code",
   "execution_count": null,
   "metadata": {},
   "outputs": [],
   "source": [
    "DownloadForMe('bender', url, 'y' )"
   ]
  },
  {
   "cell_type": "code",
   "execution_count": null,
   "metadata": {},
   "outputs": [],
   "source": []
  }
 ],
 "metadata": {
  "kernelspec": {
   "display_name": "Python 3",
   "language": "python",
   "name": "python3"
  },
  "language_info": {
   "codemirror_mode": {
    "name": "ipython",
    "version": 3
   },
   "file_extension": ".py",
   "mimetype": "text/x-python",
   "name": "python",
   "nbconvert_exporter": "python",
   "pygments_lexer": "ipython3",
   "version": "3.7.3"
  }
 },
 "nbformat": 4,
 "nbformat_minor": 2
}
